{
 "cells": [
  {
   "cell_type": "code",
   "execution_count": 28,
   "id": "87f1cddd",
   "metadata": {},
   "outputs": [
    {
     "name": "stdout",
     "output_type": "stream",
     "text": [
      "Files in digehealth_assessment: [WindowsPath('D:/Files/Projects/Code/digehealth-assessment/digehealth_assessment/config.py'), WindowsPath('D:/Files/Projects/Code/digehealth-assessment/digehealth_assessment/dataset.py'), WindowsPath('D:/Files/Projects/Code/digehealth-assessment/digehealth_assessment/features.py'), WindowsPath('D:/Files/Projects/Code/digehealth-assessment/digehealth_assessment/inference.py'), WindowsPath('D:/Files/Projects/Code/digehealth-assessment/digehealth_assessment/modeling'), WindowsPath('D:/Files/Projects/Code/digehealth-assessment/digehealth_assessment/plots.py'), WindowsPath('D:/Files/Projects/Code/digehealth-assessment/digehealth_assessment/preprocessing.py'), WindowsPath('D:/Files/Projects/Code/digehealth-assessment/digehealth_assessment/train_model.py'), WindowsPath('D:/Files/Projects/Code/digehealth-assessment/digehealth_assessment/__init__.py'), WindowsPath('D:/Files/Projects/Code/digehealth-assessment/digehealth_assessment/__pycache__')]\n"
     ]
    }
   ],
   "source": [
    "import numpy as np\n",
    "from sklearn.ensemble import RandomForestClassifier\n",
    "from sklearn.metrics import (\n",
    "    classification_report,\n",
    "    confusion_matrix,\n",
    "    ConfusionMatrixDisplay,\n",
    ")\n",
    "from sklearn.model_selection import train_test_split\n",
    "from sklearn.preprocessing import StandardScaler\n",
    "\n",
    "from pathlib import Path\n",
    "from imblearn.over_sampling import SMOTE\n",
    "from imblearn.under_sampling import RandomUnderSampler\n",
    "from imblearn.over_sampling import SMOTE\n",
    "from imblearn.pipeline import Pipeline\n",
    "import matplotlib.pyplot as plt\n",
    "\n",
    "# Add digehealth_assessment folder to sys.path to allow imports from it\n",
    "import sys\n",
    "from pathlib import Path\n",
    "\n",
    "digehealth_path = Path().resolve().parent / \"digehealth_assessment\"\n",
    "if str(digehealth_path) not in sys.path:\n",
    "    sys.path.append(str(digehealth_path))\n",
    "\n",
    "# Debug: List files in digehealth_assessment to check for preprocessing.py\n",
    "print(\"Files in digehealth_assessment:\", list(digehealth_path.iterdir()))\n",
    "\n",
    "from preprocessing import (\n",
    "    extract_overlapping_segments,\n",
    "    extract_features,\n",
    "    load_and_normalize_wav,\n",
    ")\n",
    "from config import EXTERNAL_DATA_DIR"
   ]
  },
  {
   "cell_type": "code",
   "execution_count": 20,
   "id": "071a27b3",
   "metadata": {},
   "outputs": [],
   "source": [
    "# List of (wav, annotation) file pairs\n",
    "file_pairs = [\n",
    "    (\n",
    "        EXTERNAL_DATA_DIR / \"Tech Test\" / \"23M74M.wav\",\n",
    "        EXTERNAL_DATA_DIR / \"Tech Test\" / \"23M74M.txt\",\n",
    "    ),\n",
    "    (\n",
    "        EXTERNAL_DATA_DIR / \"Tech Test\" / \"AS_1.wav\",\n",
    "        EXTERNAL_DATA_DIR / \"Tech Test\" / \"AS_1.txt\",\n",
    "    ),\n",
    "]"
   ]
  },
  {
   "cell_type": "code",
   "execution_count": 21,
   "id": "76e58196",
   "metadata": {},
   "outputs": [
    {
     "name": "stdout",
     "output_type": "stream",
     "text": [
      "Loading and segmenting audio files...\n",
      "  Processing 23M74M.wav ...\n",
      "  Processing AS_1.wav ...\n"
     ]
    }
   ],
   "source": [
    "all_segments = []\n",
    "all_labels = []\n",
    "all_sample_rates = []\n",
    "\n",
    "print(\"Loading and segmenting audio files...\")\n",
    "for wav_path, ann_path in file_pairs:\n",
    "    print(f\"  Processing {wav_path.name} ...\")\n",
    "    wav_y, sample_rate = load_and_normalize_wav(wav_path)\n",
    "    segments, labels = extract_overlapping_segments(\n",
    "        wav_path=wav_path, annotation_path=ann_path\n",
    "    )\n",
    "    all_segments.extend(segments)\n",
    "    all_labels.extend(labels)\n",
    "    all_sample_rates.extend([sample_rate] * len(segments))\n",
    "\n",
    "# Only keep 'b', 'mb', 'h' and 'n' labels, convert all remaining labels to 'n'\n",
    "allowed_labels = {\"b\", \"mb\", \"h\", \"n\", \"silence\"}\n",
    "all_labels = [label if label in allowed_labels else \"n\" for label in all_labels]"
   ]
  },
  {
   "cell_type": "code",
   "execution_count": 22,
   "id": "e6d1825c",
   "metadata": {},
   "outputs": [
    {
     "name": "stdout",
     "output_type": "stream",
     "text": [
      "Extracting features from all segments...\n",
      "(10049, 28) (10049,)\n"
     ]
    }
   ],
   "source": [
    "print(\"Extracting features from all segments...\")\n",
    "X = np.array(\n",
    "    [\n",
    "        extract_features(seg, sample_rate=sr)\n",
    "        for seg, sr in zip(all_segments, all_sample_rates)\n",
    "    ]\n",
    ")\n",
    "y = np.array(all_labels)\n",
    "\n",
    "print(X.shape, y.shape)"
   ]
  },
  {
   "cell_type": "code",
   "execution_count": null,
   "id": "82593a54",
   "metadata": {},
   "outputs": [
    {
     "name": "stdout",
     "output_type": "stream",
     "text": [
      "Class distribution BEFORE train/test split:\n",
      "  b: 488\n",
      "  h: 303\n",
      "  mb: 1884\n",
      "  n: 7374\n",
      "Splitting into train and test sets...\n",
      "\n",
      "Class distribution in TRAIN set:\n",
      "  b: 390\n",
      "  h: 243\n",
      "  mb: 1507\n",
      "  n: 5899\n"
     ]
    }
   ],
   "source": [
    "# Count and print all samples in each class before train/test split\n",
    "unique, counts = np.unique(y, return_counts=True)\n",
    "print(\"Class distribution BEFORE train/test split:\")\n",
    "for label, count in zip(unique, counts):\n",
    "    print(f\"  {label}: {count}\")\n",
    "\n",
    "print(\"\\nSplitting into train and test sets...\")\n",
    "X_train, X_test, y_train, y_test = train_test_split(\n",
    "    X, y, test_size=0.2, random_state=42, stratify=y\n",
    ")\n",
    "\n",
    "# Count and print all samples in each class after train/test split\n",
    "unique_train, counts_train = np.unique(y_train, return_counts=True)\n",
    "unique_test, counts_test = np.unique(y_test, return_counts=True)\n",
    "print(\"\\nClass distribution in TRAIN set:\")\n",
    "for label, count in zip(unique_train, counts_train):\n",
    "    print(f\"  {label}: {count}\")"
   ]
  },
  {
   "cell_type": "code",
   "execution_count": 24,
   "id": "ad7de5ab",
   "metadata": {},
   "outputs": [
    {
     "name": "stdout",
     "output_type": "stream",
     "text": [
      "Standardizing features...\n"
     ]
    }
   ],
   "source": [
    "print(\"Standardizing features...\")\n",
    "scaler = StandardScaler()\n",
    "X_train = scaler.fit_transform(X_train)\n",
    "X_test = scaler.transform(X_test)"
   ]
  },
  {
   "cell_type": "code",
   "execution_count": 25,
   "id": "2312da49",
   "metadata": {},
   "outputs": [
    {
     "name": "stdout",
     "output_type": "stream",
     "text": [
      "Balancing training data...\n",
      "\n",
      "Class distribution in TRAIN set after balancing:\n",
      "  b: 948\n",
      "  h: 948\n",
      "  mb: 948\n",
      "  n: 948\n"
     ]
    }
   ],
   "source": [
    "print(\"Balancing training data...\")\n",
    "target_size = int(np.median(counts_train))\n",
    "# Determine which classes need undersampling and which need oversampling\n",
    "class_counts = dict(zip(unique_train, counts_train))\n",
    "under_classes = {\n",
    "    label: target_size for label, count in class_counts.items() if count > target_size\n",
    "}\n",
    "over_classes = {\n",
    "    label: target_size for label, count in class_counts.items() if count < target_size\n",
    "}\n",
    "\n",
    "# Step 1: Undersample majority classes\n",
    "under = (\n",
    "    RandomUnderSampler(sampling_strategy=under_classes, random_state=42)\n",
    "    if under_classes\n",
    "    else None\n",
    ")\n",
    "\n",
    "# Step 2: Oversample minority classes\n",
    "smote = SMOTE(sampling_strategy=over_classes, random_state=42) if over_classes else None\n",
    "\n",
    "# Build pipeline dynamically\n",
    "steps = []\n",
    "if under:\n",
    "    steps.append((\"under\", under))\n",
    "if smote:\n",
    "    steps.append((\"smote\", smote))\n",
    "\n",
    "if steps:\n",
    "    pipeline = Pipeline(steps=steps)\n",
    "    X_res, y_res = pipeline.fit_resample(X_train, y_train)\n",
    "else:\n",
    "    X_res, y_res = X_train, y_train\n",
    "\n",
    "# For consistency with rest of code\n",
    "X_train_bal, y_train_bal = X_res, y_res\n",
    "\n",
    "print(\"\\nClass distribution in TRAIN set after balancing:\")\n",
    "unique_train_bal, counts_train_bal = np.unique(y_train_bal, return_counts=True)\n",
    "for label, count in zip(unique_train_bal, counts_train_bal):\n",
    "    print(f\"  {label}: {count}\")"
   ]
  },
  {
   "cell_type": "code",
   "execution_count": 26,
   "id": "40107299",
   "metadata": {},
   "outputs": [
    {
     "name": "stdout",
     "output_type": "stream",
     "text": [
      "Training classifier...\n",
      "Evaluating on test set...\n",
      "              precision    recall  f1-score   support\n",
      "\n",
      "           b       0.23      0.68      0.35        98\n",
      "           h       0.47      0.77      0.58        60\n",
      "          mb       0.57      0.68      0.62       377\n",
      "           n       0.96      0.77      0.85      1475\n",
      "\n",
      "    accuracy                           0.75      2010\n",
      "   macro avg       0.56      0.72      0.60      2010\n",
      "weighted avg       0.84      0.75      0.78      2010\n",
      "\n"
     ]
    }
   ],
   "source": [
    "print(\"Training classifier...\")\n",
    "clf = RandomForestClassifier(n_estimators=100, random_state=42)\n",
    "clf.fit(X_train_bal, y_train_bal)\n",
    "\n",
    "print(\"Evaluating on test set...\")\n",
    "y_pred = clf.predict(X_test)\n",
    "print(classification_report(y_test, y_pred))"
   ]
  },
  {
   "cell_type": "code",
   "execution_count": 32,
   "id": "5bc56523",
   "metadata": {},
   "outputs": [
    {
     "data": {
      "image/png": "[encoded data removed]",
      "text/plain": [
       "<Figure size 640x480 with 2 Axes>"
      ]
     },
     "metadata": {},
     "output_type": "display_data"
    }
   ],
   "source": [
    "# Confusion matrix\n",
    "cm = confusion_matrix(y_test, y_pred)\n",
    "disp = ConfusionMatrixDisplay(confusion_matrix=cm, display_labels= unique_train_bal)\n",
    "disp.plot()\n",
    "plt.show()"
   ]
  }
 ],
 "metadata": {
  "kernelspec": {
   "display_name": ".venv (3.12.7)",
   "language": "python",
   "name": "python3"
  },
  "language_info": {
   "codemirror_mode": {
    "name": "ipython",
    "version": 3
   },
   "file_extension": ".py",
   "mimetype": "text/x-python",
   "name": "python",
   "nbconvert_exporter": "python",
   "pygments_lexer": "ipython3",
   "version": "3.12.7"
  }
 },
 "nbformat": 4,
 "nbformat_minor": 5
}
